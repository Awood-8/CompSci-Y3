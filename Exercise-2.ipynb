{
 "cells": [
  {
   "cell_type": "markdown",
   "metadata": {},
   "source": [
    "# Exercise 3\n",
    "\n",
    "In this assignment, you will find numerical solutions to the diffusion equation. In particular, you will use an implicit method, and consider problems with both Dirichlet and Neumann boundary conditions.\n",
    "\n",
    "**Remember**\n",
    "   * You are expected to use numpy and scipy libraries where appropriate.  \n",
    "   * You should run each cell in order from the top of the notebook; there is no need to repeat code between cells\n",
    "   * Use the \"refresh kernel\" button to reset everything and start again\n",
    "   * Make sure your notebook runs fully & without errors, from a fresh kernel, before submitting it"
   ]
  },
  {
   "cell_type": "markdown",
   "metadata": {},
   "source": [
    "## Problem Overview\n",
    "\n",
    "The 1D diffusion equation is :\n",
    "\n",
    "$$\\frac{\\partial u}{\\partial t} = k\\frac{\\partial^2 u}{\\partial x^2}$$\n",
    "\n",
    "You should discretize this equation onto $N_x$ space points, with separation $\\Delta x = h$, and into timesteps $\\Delta t = \\tau$.  In the equations below, I use subscript $i$ as a space index, and superscript $n$ for time indices.\n",
    "\n",
    "Having discretized the problem, you should use the _implicit_ finite difference equation, as discussed in lectures :\n",
    "\n",
    "$$\\frac{u_i^{n+1} - u_i^n}{\\tau} = k \\frac{u_{i+1}^{n+1} - 2u_i^{n+1} + u_{i-1}^{n+1}}{h^2}$$\n",
    "\n",
    "This can be written in matrix form $u^n = M u^{n+1}$ using :\n",
    "\n",
    "$$u_i^n = - \\alpha u_{i-1}^{n+1} + (1 + 2\\alpha) u_i^{n+1} - \\alpha u_{i+1}^{n+1}$$\n",
    "\n",
    "where $\\alpha = \\frac{k \\tau}{h^2}$.\n",
    "\n",
    "In the problems below, you are asked to solve the diffusion equation in the context of the heat equation. Here, $k$ is the thermal diffusivity, given by $k = \\frac{\\lambda}{\\rho C}$, where $\\lambda$ is the thermal conductivity, $\\rho$ is the density, and $C$ is the specific heat capacity. The questions below concern an iron poker of length 50cm.  You may take the thermal conductivity of iron to be a constant 59 W/m/K, its specific heat as 450 J/kg/K, and its density as 7,900 kg/m3.  You can ignore heat loss along the length of the poker.\n"
   ]
  },
  {
   "attachments": {},
   "cell_type": "markdown",
   "metadata": {},
   "source": [
    "## Part 1 - Dirichlet Boundary Conditions\n",
    "\n",
    "The poker is initially in equilibrium, at room temperature of 20 C. At time $t = 0$, one end is thrust into a furnace at 1000 C and the other end is held in an ice bath at 0 C. Your task is to calculate the temperature distribution along the poker as a function of time.\n",
    "\n",
    "The fact that the ends of the rod are held at fixed temperatures of 0 C and 1000 C corresponds to a Dirichlet boundary condition.  These can be included in the implicit method as follows.\n",
    "\n",
    "The implicit finite difference equation, above, will allow us to calculate the unknown 'internal' nodes, ie. $0 < i < (N_x-1)$.  However, the boundary nodes, $i=0, N_x$, must have fixed values $d_0, d_N$.  To fix the boundaries, we take the matrix M to be of size $(N_x-2) \\times (N_x-2)$, and adding a vector term :\n",
    "\n",
    "$$u^n = Mu^{n+1} + b$$\n",
    "\n",
    "For $N_x = 7$ (for example), this gives :\n",
    "\n",
    "$$M = \\begin{pmatrix}\n",
    "1+2\\alpha & -\\alpha   &           &           &           & \\\\\n",
    "-\\alpha   & 1+2\\alpha & -\\alpha   &           &           & \\\\\n",
    "          & -\\alpha   & 1+2\\alpha & -\\alpha   &           & \\\\\n",
    "          &           & -\\alpha   & 1+2\\alpha & -\\alpha   & \\\\\n",
    "          &           &           & -\\alpha   & 1+2\\alpha & \\\\\n",
    "\\end{pmatrix}$$\n",
    "\n",
    "$$b = \\begin{pmatrix}\n",
    "-\\alpha d_0 \\\\\n",
    "0 \\\\\n",
    "0 \\\\\n",
    "0 \\\\\n",
    "-\\alpha d_N \\\\\n",
    "\\end{pmatrix}$$\n",
    "\n",
    "You can show this gives the required finite equation for $i=1, (N-1)$, eg. :\n",
    "\n",
    "$$u^n_1 = - \\alpha u^{n+1}_2 + (1 + 2\\alpha)u^{n+1}_1 - \\alpha d_0$$\n",
    "\n",
    "First, write functions that will construct the matrix equation and boundary value term."
   ]
  },
  {
   "cell_type": "code",
   "execution_count": 4,
   "metadata": {},
   "outputs": [],
   "source": [
    "%matplotlib qt\n",
    "import numpy as np\n",
    "from scipy import linalg\n",
    "import matplotlib.pyplot as plt\n",
    "from mpl_toolkits.mplot3d import axes3d\n",
    "from matplotlib import cm\n",
    "\n",
    "\n",
    "\n",
    "class Rod:\n",
    "    def __init__(self,x,seg,dt,d0,dN,u0,k):\n",
    "        '''Initialise class for material\n",
    "        \n",
    "        x - rod length\n",
    "        seg - no. segments to divide rod into\n",
    "        dt - time step between iterations\n",
    "        d0 - x0 Dirichlet boundary condition\n",
    "        dN - xN Dirichlet boundary condition\n",
    "        u0 - initial rod temperature\n",
    "        k - thermal diffusivity, calcuated by: thermal conductivity / density*specific heat'''\n",
    "\n",
    "        self.x = x\n",
    "        self.k=k\n",
    "        self.seg=seg\n",
    "        self.dt=dt\n",
    "        self.step=x/seg\n",
    "        self.d0 = d0\n",
    "        self.dN = dN\n",
    "        self.a = (k * dt) / self.step**2\n",
    "        self.u = np.full((seg - 2), u0)\n",
    "\n",
    "    def matmaker(self, b_type):\n",
    "        '''initialise matrix'''\n",
    "        \n",
    "        mat=np.full((self.seg -2 ,self.seg - 2),(-self.a))\n",
    "        mat=np.tril(np.triu(mat,-1),1)\n",
    "\n",
    "        for i in range(0,self.seg -2):\n",
    "            mat[i,i]=1 + 2*self.a\n",
    "\n",
    "        if b_type == 1:\n",
    "            mat[0,0] = 1 + self.a\n",
    "        \n",
    "        print(mat)\n",
    "        return mat\n",
    "\n",
    "    def boundary(self,b_type):\n",
    "        '''set dirichlet boundary conditions'''\n",
    "        vect=np.zeros(self.seg - 2)\n",
    "\n",
    "        if b_type == 0:\n",
    "            vect[0] = -self.a * self.d0\n",
    "\n",
    "        vect[-1] = -self.a * self.dN\n",
    "\n",
    "        return vect\n",
    "\n",
    "    def plotter(self,f_u,timesteps):\n",
    "        print(timesteps)\n",
    "        xr = np.arange(0,self.seg - 2,1)\n",
    "        yr = np.arange(0,timesteps,1)*self.dt\n",
    "\n",
    "        X,Y = np.meshgrid(xr,yr)\n",
    "        X = X/(np.amax(X)) * self.x\n",
    "\n",
    "        fig, ax = plt.subplots(subplot_kw={\"projection\": \"3d\"})\n",
    "        ax.plot_surface(X, Y, f_u, vmin=f_u.min() * 2, cmap=cm.hot)\n",
    "        ax.set_xlabel('Position (m)')\n",
    "        ax.set_ylabel('Time (s)')\n",
    "        ax.set_zlabel('Temperature (K)')\n",
    "\n",
    "        plt.show()\n",
    "    \n",
    "    def time_iterator(self, timesteps, b_type):\n",
    "        '''find temp distribution by time\n",
    "        \n",
    "        Args: \n",
    "        timesteps - no. time steps\n",
    "        b_type - Boundary conditions: 0 for Dirichlet conditions, 1 for Neumann\n",
    "        '''\n",
    "\n",
    "        mat = self.matmaker(b_type)\n",
    "        bound = self.boundary(b_type)\n",
    "        f_u = np.zeros((timesteps, self.seg - 2))\n",
    "        \n",
    "        f_u [0,:] = linalg.solve(mat,(self.u - bound))\n",
    "\n",
    "        for i in range(1,timesteps):\n",
    "            f_u[i,:] = linalg.solve(mat ,(f_u[i-1,:] - bound))\n",
    "\n",
    "            if i > 10:\n",
    "                #print(np.mean(f_u[i,:]-f_u[i-10,:]))\n",
    "                if np.mean(f_u[i,:] - f_u[i-10,:]) < 0.005:\n",
    "                    timesteps = i\n",
    "                    f_u = f_u[0:i,:]\n",
    "                    \n",
    "                    break\n",
    "                \n",
    "        self.plotter(f_u,timesteps)\n",
    "\n",
    "segments = 100\n",
    "\n",
    "timesteps = 500000\n",
    "dt = 0.1\n",
    "\n",
    "x = 0.5\n",
    "d0 = 273\n",
    "dN = 1273\n",
    "u0 = 293\n",
    "\n",
    "iron_tc = 59\n",
    "iron_density = 7900\n",
    "iron_shc = 450\n",
    "iron_tdiff = iron_tc / (iron_density * iron_shc)\n",
    "\n",
    "cu_tc = 401\n",
    "cu_density = 8960\n",
    "cu_shc = 385\n",
    "cu_tdiff = cu_tc / (cu_density * cu_shc)\n",
    "\n",
    "iron_50 = Rod(x,segments,dt,d0,dN,u0,iron_tdiff)\n",
    "cu_50 = Rod(0.5, segments, dt, d0, dN, u0, cu_tdiff)\n"
   ]
  },
  {
   "cell_type": "markdown",
   "metadata": {},
   "source": [
    "Now write a function which will transport the temperature distribution at time step $n$ to time step $n+1$. You will need to use an appropriate linear algebra routine."
   ]
  },
  {
   "cell_type": "code",
   "execution_count": null,
   "metadata": {},
   "outputs": [],
   "source": []
  },
  {
   "cell_type": "markdown",
   "metadata": {},
   "source": [
    "Finally, use the functions above to calculate the temperature distribution as a function of time, and display this graphically using an appropriate plotting routine."
   ]
  },
  {
   "cell_type": "code",
   "execution_count": 5,
   "metadata": {},
   "outputs": [
    {
     "name": "stdout",
     "output_type": "stream",
     "text": [
      "[[ 1.13277075 -0.06638537  0.         ...  0.          0.\n",
      "   0.        ]\n",
      " [-0.06638537  1.13277075 -0.06638537 ...  0.          0.\n",
      "   0.        ]\n",
      " [ 0.         -0.06638537  1.13277075 ...  0.          0.\n",
      "   0.        ]\n",
      " ...\n",
      " [ 0.          0.          0.         ...  1.13277075 -0.06638537\n",
      "   0.        ]\n",
      " [ 0.          0.          0.         ... -0.06638537  1.13277075\n",
      "  -0.06638537]\n",
      " [ 0.          0.          0.         ...  0.         -0.06638537\n",
      "   1.13277075]]\n",
      "59271\n",
      "[[ 1.92996289 -0.46498145  0.         ...  0.          0.\n",
      "   0.        ]\n",
      " [-0.46498145  1.92996289 -0.46498145 ...  0.          0.\n",
      "   0.        ]\n",
      " [ 0.         -0.46498145  1.92996289 ...  0.          0.\n",
      "   0.        ]\n",
      " ...\n",
      " [ 0.          0.          0.         ...  1.92996289 -0.46498145\n",
      "   0.        ]\n",
      " [ 0.          0.          0.         ... -0.46498145  1.92996289\n",
      "  -0.46498145]\n",
      " [ 0.          0.          0.         ...  0.         -0.46498145\n",
      "   1.92996289]]\n",
      "12626\n"
     ]
    }
   ],
   "source": [
    "iron_50.time_iterator(timesteps, 0)\n",
    "cu_50.time_iterator(timesteps, 0)"
   ]
  },
  {
   "attachments": {},
   "cell_type": "markdown",
   "metadata": {},
   "source": [
    "## Part 2 - Neumann Boundary Conditions\n",
    "\n",
    "Now we assume the far end of the poker from the furnace is no longer held at 0 C, but instead experiences no heat loss. Again your task is to find the temperature distribution as a function of time.\n",
    "\n",
    "In this case, you will need to implement a Neumann boundary condition at the end of the poker, to ensure the derivative $\\frac{\\partial u}{\\partial x}$ is zero. Since we are using finite differences, this is equivalent to ensuring the final two nodes have the same value.\n",
    "\n",
    "The finite difference equation for node $i=(N-1)$ is :\n",
    "\n",
    "$$u^n_{N-1} = -\\alpha u^{n+1}_{N-2} + (1 + 2\\alpha)u^{n+1}_{N-1} - \\alpha u^{n+1}_{N}$$\n",
    "\n",
    "To enforce the Neumann boundary condition we can substitute $u^{n+1}_{N} = u^{n+1}_{N-1}$, giving :\n",
    "\n",
    "$$u^n_{N-1} = -\\alpha u^{n+1}_{N-2} + (1 + \\alpha)u^{n+1}_{N-1}$$\n",
    "\n",
    "This results in a modified form of $M$, shown here for the example $N_x=7$, and the matrix ix $5\\times5$ :  \n",
    "\n",
    "$$M = \\begin{pmatrix}\n",
    "1+2\\alpha & -\\alpha   &           &           &           & \\\\\n",
    "-\\alpha   & 1+2\\alpha & -\\alpha   &           &           & \\\\\n",
    "          & -\\alpha   & 1+2\\alpha & -\\alpha   &           & \\\\\n",
    "          &           & -\\alpha   & 1+2\\alpha & -\\alpha   & \\\\\n",
    "          &           &           & -\\alpha   & 1+\\alpha & \\\\\n",
    "\\end{pmatrix}$$\n",
    "\n",
    "Note that you will also need to include a boundary term vector $b$, since the end of the poker in the furnace still requires a Dirichlet condition.\n",
    "\n",
    "First write any new functions you need. You should be able to re-use some functions from Part 1."
   ]
  },
  {
   "cell_type": "code",
   "execution_count": null,
   "metadata": {},
   "outputs": [],
   "source": []
  },
  {
   "cell_type": "markdown",
   "metadata": {},
   "source": [
    "Finally, use the functions above to calculate the temperature distribution as a function of time, and display this graphically using a sensible plotting function."
   ]
  },
  {
   "cell_type": "code",
   "execution_count": 6,
   "metadata": {},
   "outputs": [
    {
     "name": "stdout",
     "output_type": "stream",
     "text": [
      "[[ 1.06638537 -0.06638537  0.         ...  0.          0.\n",
      "   0.        ]\n",
      " [-0.06638537  1.13277075 -0.06638537 ...  0.          0.\n",
      "   0.        ]\n",
      " [ 0.         -0.06638537  1.13277075 ...  0.          0.\n",
      "   0.        ]\n",
      " ...\n",
      " [ 0.          0.          0.         ...  1.13277075 -0.06638537\n",
      "   0.        ]\n",
      " [ 0.          0.          0.         ... -0.06638537  1.13277075\n",
      "  -0.06638537]\n",
      " [ 0.          0.          0.         ...  0.         -0.06638537\n",
      "   1.13277075]]\n",
      "195136\n"
     ]
    }
   ],
   "source": [
    "iron_50.time_iterator(timesteps, 1)"
   ]
  },
  {
   "cell_type": "markdown",
   "metadata": {},
   "source": [
    "# Part 3\n",
    "\n",
    "In the Markdown cell below, describe how your code solves the problem set. State any equations used in the solution and how they were obtained. Include your reasons for any libraries you used, as well as any particular programming techniques. Explain your choice of any test cases. Finally, state any salient features of the results you obtained. You are not expected to write more than about 250-300 words."
   ]
  },
  {
   "cell_type": "markdown",
   "metadata": {},
   "source": []
  }
 ],
 "metadata": {
  "kernelspec": {
   "display_name": "Python 3",
   "language": "python",
   "name": "python3"
  },
  "language_info": {
   "codemirror_mode": {
    "name": "ipython",
    "version": 3
   },
   "file_extension": ".py",
   "mimetype": "text/x-python",
   "name": "python",
   "nbconvert_exporter": "python",
   "pygments_lexer": "ipython3",
   "version": "3.10.0"
  },
  "vscode": {
   "interpreter": {
    "hash": "b8445da9815d99c96faf0551ebc6049fb38d2146f9c1a278adf7acc8edaba5b8"
   }
  }
 },
 "nbformat": 4,
 "nbformat_minor": 2
}
