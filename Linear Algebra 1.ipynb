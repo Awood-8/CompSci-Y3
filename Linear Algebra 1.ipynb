{
 "cells": [
  {
   "cell_type": "markdown",
   "metadata": {},
   "source": [
    "# Linear Algebra 1 - Solving Linear Equations\n",
    "\n",
    "In this notebook, we will explore the following topics:\n",
    "1. Basic matrix operations in scipy\n",
    "2. Solving simultaneous linear equations\n",
    "3. A Physics example\n",
    "\n",
    "Before using this notebook, familiarise yourself with the Advanced Python Tutorial section 5.2, which covers matrix algebra using numpy.\n"
   ]
  },
  {
   "cell_type": "markdown",
   "metadata": {},
   "source": [
    "# 1. Basic Matrix Operations\n",
    "\n",
    "Python/numpy/scipy provide a range of options for achieving basic matrix operations.  You will need to take a little care to ensure that your code implements the operations you intend it to.  This is largely due to the fact that some operators/functions will change their behaviour depending on the input you provide.  This section includes some recommendations for simple linear algebra, which should ensure your code behaves as desired.\n",
    "\n",
    "Matrices can be implemented as a 2D `np.ndarray`.  Basic matrix arithmetic can then be performed using standard operators `+`,`-` and `@`.  You can also use `np.matmul()` for matrix multiplication. Numpy will also perform matrix multiplication with `np.dot()`, but this is not recommended if you can use `@` or `np.matmul()`."
   ]
  },
  {
   "cell_type": "code",
   "execution_count": 1,
   "metadata": {},
   "outputs": [
    {
     "name": "stdout",
     "output_type": "stream",
     "text": [
      "[[2 2 3]\n",
      " [4 6 6]\n",
      " [1 0 1]]\n",
      "[[ 0  2  3]\n",
      " [ 4  4  6]\n",
      " [ 1  0 -1]]\n",
      "[[3 0 0]\n",
      " [0 3 0]\n",
      " [0 0 3]]\n",
      "[[1 2 3]\n",
      " [4 5 6]\n",
      " [1 0 0]]\n",
      "[[1 2 3]\n",
      " [4 5 6]\n",
      " [1 0 0]]\n"
     ]
    }
   ],
   "source": [
    "import numpy as np\n",
    "\n",
    "A = np.array([[1, 2, 3,],[4, 5, 6],[1, 0, 0]])\n",
    "B = np.array([[1, 0, 0,],[0, 1, 0],[0, 0, 1]])\n",
    "\n",
    "# addition\n",
    "print(A + B)\n",
    "\n",
    "# subtraction\n",
    "print(A - B)\n",
    "\n",
    "# scalar multiplication\n",
    "print(3*B)\n",
    "\n",
    "# matrix multiplication\n",
    "print(np.matmul(A, B))\n",
    "print(A @ B)\n"
   ]
  },
  {
   "cell_type": "markdown",
   "metadata": {},
   "source": [
    "Vectors can be implemented as 1D arrays, or as 2D arrays. A 1D array will be interpreted as row or column vector depending on the context in which it is used.  Use of 2D arrays allows you to specify row or column form.  This can be useful, since `np.matmul()` or `@` will throw an exception if you accidentally try to perform an illegal matrix operation. "
   ]
  },
  {
   "cell_type": "code",
   "execution_count": 2,
   "metadata": {},
   "outputs": [
    {
     "name": "stdout",
     "output_type": "stream",
     "text": [
      "[14 32  1]\n",
      "[[14]\n",
      " [32]\n",
      " [ 1]]\n",
      "[12 12 15]\n",
      "[[12 12 15]]\n"
     ]
    },
    {
     "ename": "ValueError",
     "evalue": "matmul: Input operand 1 has a mismatch in its core dimension 0, with gufunc signature (n?,k),(k,m?)->(n?,m?) (size 1 is different from 3)",
     "output_type": "error",
     "traceback": [
      "\u001b[0;31m---------------------------------------------------------------------------\u001b[0m",
      "\u001b[0;31mValueError\u001b[0m                                Traceback (most recent call last)",
      "\u001b[0;32m/var/folders/fv/gj9cmjs928z7rgz0yvnk5llw0000gq/T/ipykernel_37235/2521399097.py\u001b[0m in \u001b[0;36m<module>\u001b[0;34m\u001b[0m\n\u001b[1;32m     12\u001b[0m \u001b[0;34m\u001b[0m\u001b[0m\n\u001b[1;32m     13\u001b[0m \u001b[0;31m# this is not a valid matrix multiplication !\u001b[0m\u001b[0;34m\u001b[0m\u001b[0;34m\u001b[0m\u001b[0m\n\u001b[0;32m---> 14\u001b[0;31m \u001b[0mprint\u001b[0m\u001b[0;34m(\u001b[0m\u001b[0mA\u001b[0m\u001b[0;34m@\u001b[0m\u001b[0mvr\u001b[0m\u001b[0;34m)\u001b[0m\u001b[0;34m\u001b[0m\u001b[0;34m\u001b[0m\u001b[0m\n\u001b[0m",
      "\u001b[0;31mValueError\u001b[0m: matmul: Input operand 1 has a mismatch in its core dimension 0, with gufunc signature (n?,k),(k,m?)->(n?,m?) (size 1 is different from 3)"
     ]
    }
   ],
   "source": [
    "v  = np.array([1,2,3])\n",
    "vr = np.array([[1,2,3]])\n",
    "vc = np.array([[1],[2],[3]])\n",
    "\n",
    "# two options for matrix * vector\n",
    "print(A@v)\n",
    "print(A@vc)\n",
    "\n",
    "# two options for vector * matrix\n",
    "print(v@A)\n",
    "print(vr@A)\n",
    "\n",
    "# this is not a valid matrix multiplication !\n",
    "print(A@vr)"
   ]
  },
  {
   "cell_type": "markdown",
   "metadata": {},
   "source": [
    "Numpy will also provide the usual forms of vector product via `np.vdot()`, `np.cross()`, `np.inner()` and `np.outer()`. Again, `np.dot()` will provide a vector dot product, but is not recommended if you can use `vdot()`.\n",
    "\n",
    "Other useful matrix operations are provided by numpy, such as :\n",
    "* `np.transpose()` (also available via `ndarray.T`)\n",
    "* `np.norm()`\n",
    "* `np.trace()`\n",
    "\n",
    "For further information, look at the reference pages :\n",
    "https://numpy.org/doc/stable/reference/routines.array-manipulation.html\n",
    "https://numpy.org/doc/stable/reference/routines.linalg.html\n",
    "\n",
    "Finally, `scipy.linalg` provides some additional basic operations such as the determinant and the inverse."
   ]
  },
  {
   "cell_type": "code",
   "execution_count": 3,
   "metadata": {},
   "outputs": [
    {
     "name": "stdout",
     "output_type": "stream",
     "text": [
      "-3.000000000000001\n",
      "[[-0.          0.          1.        ]\n",
      " [-2.          1.         -2.        ]\n",
      " [ 1.66666667 -0.66666667  1.        ]]\n"
     ]
    }
   ],
   "source": [
    "import numpy as np\n",
    "import scipy.linalg as linalg\n",
    "\n",
    "A = np.array([[1, 2, 3,],[4, 5, 6],[1, 0, 0]])\n",
    "detA = linalg.det(A)\n",
    "print(detA)\n",
    "\n",
    "invA = linalg.inv(A)\n",
    "print(invA)"
   ]
  },
  {
   "cell_type": "markdown",
   "metadata": {},
   "source": [
    "# 2. Simultaneous Equations\n",
    "\n",
    "Many problems in physics require solving simultaneous equations. When these become large and complex, numerical routines are required.\n",
    "\n",
    "A set of simultaneous equations can always be written in matrix form, for example, two equations in two unknowns ($x_1$ and $x_2$)\n",
    "\n",
    "$$ax_1 + bx_2 = y_1$$\n",
    "$$cx_1 + dx_2 = y_2$$\n",
    "\n",
    "can be rewritten as\n",
    "\n",
    "$$\\left(\\begin{array}{cc} a & b \\\\ c & d\\end{array}\\right)\n",
    "\\left(\\begin{array}{c} x_1 \\\\ x_2 \\end{array}\\right) = \n",
    "\\left(\\begin{array}{c} y_1 \\\\ y_2 \\end{array}\\right)$$\n",
    "\n",
    "An arbitrary set of equations is\n",
    "\n",
    "$$Ax = y$$\n",
    "\n",
    "where A is the matrix of coefficients, x is the vector of unknown variables $x_1$, $x_2$, ...\n",
    "and y is the known vector of constants."
   ]
  },
  {
   "cell_type": "markdown",
   "metadata": {},
   "source": [
    "## 2.1 Inverse Matrix\n",
    "\n",
    "One way to solve the above equation is to multiply both sides by the inverse of A:\n",
    "\n",
    "$$A^{-1} A x = A^{-1} y$$\n",
    "\n",
    "giving :\n",
    "\n",
    "$$x = A^{-1} y$$\n",
    "\n",
    "This is demonstrated in the example below for a simple test case."
   ]
  },
  {
   "cell_type": "code",
   "execution_count": 11,
   "metadata": {},
   "outputs": [
    {
     "name": "stdout",
     "output_type": "stream",
     "text": [
      "[[ 3.        ]\n",
      " [-6.        ]\n",
      " [ 3.33333333]]\n"
     ]
    }
   ],
   "source": [
    "import scipy.linalg as linalg\n",
    "\n",
    "def solve_inv(a,y):\n",
    "    x = linalg.inv(a) @ y\n",
    "    return x\n",
    "\n",
    "a = np.array([[1, 2, 3,],[4, 5, 6],[1, 0, 0]])\n",
    "y = np.array([[1], [2], [3]])\n",
    "\n",
    "print(solve_inv(a,y))"
   ]
  },
  {
   "cell_type": "markdown",
   "metadata": {},
   "source": [
    "Is this the solution?  We can easily check by inserting the solution into the original equation."
   ]
  },
  {
   "cell_type": "code",
   "execution_count": 12,
   "metadata": {},
   "outputs": [
    {
     "name": "stdout",
     "output_type": "stream",
     "text": [
      "[[1.]\n",
      " [2.]\n",
      " [3.]]\n"
     ]
    }
   ],
   "source": [
    "print(a @ x)"
   ]
  },
  {
   "cell_type": "markdown",
   "metadata": {},
   "source": [
    "Which is indeed equal to our `y` above.  This kind of test is known as a 'closure test' and will be used frequently throughout this unit to verify our code."
   ]
  },
  {
   "cell_type": "markdown",
   "metadata": {},
   "source": [
    "## 2.2 LU Decomposition\n",
    "\n",
    "LU decomposition is covered in Async Lecture 1 and can be performed using routines in `scipy.linalg`.  Note that `scipy.linalg.lu()` simply performs the decomposition - ie. factorising the matrix A into matrices L, U, and P. To solve a simultaneous equation using LU decomposition, we need to use the `scipy.linalg.lu_solve()` function, which expects LU and P matrices as arguments, as shown in the example below.\n",
    "\n",
    "https://docs.scipy.org/doc/scipy/reference/generated/scipy.linalg.lu.html  \n",
    "https://docs.scipy.org/doc/scipy/reference/generated/scipy.linalg.lu_solve.html"
   ]
  },
  {
   "cell_type": "code",
   "execution_count": 13,
   "metadata": {},
   "outputs": [
    {
     "name": "stdout",
     "output_type": "stream",
     "text": [
      "[[ 3.        ]\n",
      " [-6.        ]\n",
      " [ 3.33333333]]\n"
     ]
    }
   ],
   "source": [
    "def solve_lu(a,y):\n",
    "    lu, piv = linalg.lu_factor(a)\n",
    "    x = linalg.lu_solve((lu, piv), y)\n",
    "    return x\n",
    "\n",
    "print(solve_lu(a,y))"
   ]
  },
  {
   "cell_type": "markdown",
   "metadata": {},
   "source": [
    "Note that the general purpose solver provided in `scipy.linalg.solve()` also utilises LU decomposition :\n",
    "\n",
    "https://numpy.org/doc/stable/reference/generated/numpy.linalg.solve.html"
   ]
  },
  {
   "cell_type": "markdown",
   "metadata": {},
   "source": [
    "## 2.3 SVD Decomposition\n",
    "\n",
    "SVD decomposition is available using `scipy.linalg.svd()`.  In this case, no `solve()` function is supplied for using SVD to solve simultaneous equations.  Instead we must write some code to calculate the solution using :\n",
    "\n",
    "$\\bar{x} = V \\Sigma^{\\dagger}U^{T} b$\n",
    "\n",
    "Further details are provided in Async Lecture 1.\n",
    "\n",
    "https://docs.scipy.org/doc/scipy/reference/generated/scipy.linalg.svd.html"
   ]
  },
  {
   "cell_type": "code",
   "execution_count": 15,
   "metadata": {},
   "outputs": [
    {
     "name": "stdout",
     "output_type": "stream",
     "text": [
      "[[ 3.        ]\n",
      " [-6.        ]\n",
      " [ 3.33333333]]\n"
     ]
    }
   ],
   "source": [
    "def solve_svd(a,y):\n",
    "    u, s, v = linalg.svd(a)\n",
    "    c = np.dot(u.T,y)\n",
    "    w = linalg.solve(np.diag(s),c)\n",
    "    x = np.dot(v.T,w)\n",
    "    return x\n",
    "\n",
    "print(solve_svd(a,y))"
   ]
  },
  {
   "cell_type": "markdown",
   "metadata": {},
   "source": [
    "# 3. Comparison of Algorithms\n",
    "\n",
    "There are a variety of reasons that might influence our choice of algorithm, which will depend on the nature of teh problem we are trying to solve.\n",
    "\n",
    "One interesting comparison we can perform is to consider solutions to a near-singular matrix problem such as the one below for small $k$ :\n",
    "\n",
    "\\begin{eqnarray*}\n",
    "x + y + z & = & 5 \\\\\n",
    "x + 2y - z & = & 10 \\\\\n",
    "2x + 3y +kz & = & 15 \n",
    "\\end{eqnarray*}\n",
    "\n",
    "Note that when $k=0$ the equations are degenerate and there is a space of solutions.\n",
    "\n",
    "We will scan a wide range of values of $k$, use each of the above methods to find a solution, and plot a measure of the numerical error.  (To be specific, we insert the obtained solution into the equation above, find the difference with respect to the RHS ie. $ax - y$, and take the maximum value of this vector).\n",
    "\n",
    "However, first we must add some protection to the inverse matrix method for errors when $k$ is 'too small' and the matrix is effectively singular."
   ]
  },
  {
   "cell_type": "code",
   "execution_count": 25,
   "metadata": {},
   "outputs": [],
   "source": [
    "def solve_inv(a,y):\n",
    "    try:\n",
    "        x = linalg.inv(a) @ y\n",
    "    except linalg.LinAlgError as err:\n",
    "        x = np.full_like(y,np.NaN)\n",
    "    return x"
   ]
  },
  {
   "cell_type": "code",
   "execution_count": 28,
   "metadata": {},
   "outputs": [
    {
     "data": {
      "image/png": "[encoded data removed]",
      "text/plain": [
       "<Figure size 576x576 with 1 Axes>"
      ]
     },
     "metadata": {
      "needs_background": "light"
     },
     "output_type": "display_data"
    }
   ],
   "source": [
    "ks = np.logspace(-20, 5, 1000)\n",
    "p1s = []\n",
    "p2s = []\n",
    "p3s = []\n",
    "\n",
    "y = np.array([5,10,15])\n",
    "\n",
    "# this code snippet is just to suppress some warnings\n",
    "import warnings\n",
    "with warnings.catch_warnings():\n",
    "    warnings.simplefilter(\"ignore\")\n",
    "    \n",
    "    # loop over values of k\n",
    "    for k in ks:\n",
    "        \n",
    "        # compute matrix for this value of k\n",
    "        a = np.array([[1,1,1],[1,2,-1],[2,3,k]])\n",
    "        \n",
    "        # find the error for inverse method\n",
    "        diff1 = a @ solve_inv(a,y) - y\n",
    "        p1s.append(abs(np.amax(diff1)))\n",
    "\n",
    "        # find the error for LU decomposition\n",
    "        diff2 = a @ solve_lu(a,y) - y\n",
    "        p2s.append(abs(np.amax(diff2)))\n",
    "\n",
    "        # find the error for SVD decomposition\n",
    "        diff3 = a @ solve_svd(a,y) - y\n",
    "        p3s.append(abs(np.amax(diff3)))\n",
    "        \n",
    "# LU solver will only result in 0 or NaN - replace these with min/max y values respectively, using a list comprehension\n",
    "new_p2s = [1.1e-18 if x==0 else 0.8e-5 for x in p2s]\n",
    "\n",
    "fig=plt.figure(figsize=(8, 8))\n",
    "plt.rcParams.update({'font.size': 12})\n",
    "plt.plot(ks, p1s, color='r', label=\"Inverse\")\n",
    "plt.plot(ks, p3s, color='b', label=\"SVD\")\n",
    "plt.plot(ks, new_p2s, color='g', label=\"LU\")\n",
    "plt.yscale(\"log\")\n",
    "plt.ylabel(\"error\")\n",
    "plt.xscale(\"log\")\n",
    "plt.xlabel(\"k\")\n",
    "plt.ylim(1e-18, 1e-5)\n",
    "plt.legend()\n",
    "plt.show()"
   ]
  },
  {
   "cell_type": "markdown",
   "metadata": {},
   "source": [
    "Note that for $k$ of order the machine epsilon ($10^{-16}$ or so) both inverse method and LU decomposition have very large error.  Above this value, LU decomposition has no error, while the inverse method has error inversely proportional to $k$.  This is even more suprising when we consider that, behind the scenes, `scipy.linalg.inv()` actually uses LU decomposition to find the inverse.  The reason here is that when computing the inverse from the LU decomposition, we have to divide by the determinant of the matrix, which is inversely proportional to $k$. Division by a large number can introduce rounding error. However, finding the solution using LU decomposition alone does not require such a division and does not introduce such an error.\n",
    "\n",
    "SVD notes"
   ]
  },
  {
   "attachments": {
    "circuit-2.png": {
     "image/png": "[encoded data removed]"
    }
   },
   "cell_type": "markdown",
   "metadata": {},
   "source": [
    "## 4. Physics Example\n",
    "\n",
    "Here we illustrate the use of simultaneous equation solvers in a familiar context - the use of Kirchoff's laws and Ohm's law to understand resist networks.  Typically, analysis of a resistor network will involve solving simultaneous equations, to calculate voltage and current at the desired points in the network.  Consider the electronic circuit shown in the diagram.\n",
    "\n",
    "![circuit-2.png](attachment:circuit-2.png)\n",
    "\n",
    "Where : $V_1 = 12V$, $V_2 = 12V$, $R_1 = 3 \\Omega$, $R_2 = 3 \\Omega$, $R_3 = 10 \\Omega$, $R_4 = 2 \\Omega$, $R_5 = 2 \\Omega$. \n",
    "\n",
    "By identifying the three current loops indicated, we can use Kirchoff's loop rule and Ohm's law to write :\n",
    "$$\n",
    "V_1 = I_1 R_1 + (I_1 - I_2) R_2 \\\\\n",
    "0   = (I_2 - I_1) R_2 + I_2 R_3 + (I_2 - I_3) R_4 \\\\\n",
    "-V_2 = (I_3 - I_2) R_4 + I_3 R_5\n",
    "$$\n",
    "\n",
    "So we have a set of simultaneous equations, which we can write as a matrix equation :\n",
    "\n",
    "$$\n",
    "\\begin{pmatrix}\n",
    "R_1+R_2 & -R_2 & 0 \\\\\n",
    "-R_2 & R_2+R_3+R_4 & -R_4 \\\\\n",
    "0  & -R_4 & R_4+R_5 \\\\\n",
    "\\end{pmatrix}\n",
    "\\begin{pmatrix}\n",
    "I_1 \\\\\n",
    "I_2 \\\\\n",
    "I_3\n",
    "\\end{pmatrix}\n",
    "=\n",
    "\\begin{pmatrix}\n",
    "V_1 \\\\\n",
    "0 \\\\\n",
    "-V_2\n",
    "\\end{pmatrix}\n",
    "$$\n",
    "\n",
    "Solving this matrix equation will provide the current at all points in the circuit.  This method is known as \"mesh analysis\" of circuits.\n",
    "\n",
    "We can write a simple function that, given the voltage and resistor values, will return the currents :"
   ]
  },
  {
   "cell_type": "code",
   "execution_count": 8,
   "metadata": {},
   "outputs": [],
   "source": [
    "def meshAnalysis(v1, v2, r1, r2, r3, r4, r5):\n",
    "    m = np.array ([[r1+r2, -r2, 0],[-r2,r2+r3+r4,-r4],[0,-r4,r4+r5]])\n",
    "    v = np.array([[v1],[0],[-v2]])\n",
    "    i = linalg.solve(m,v)\n",
    "    return i"
   ]
  },
  {
   "cell_type": "markdown",
   "metadata": {},
   "source": [
    "Which, for the values given, will return the three currents :"
   ]
  },
  {
   "cell_type": "code",
   "execution_count": 9,
   "metadata": {},
   "outputs": [
    {
     "name": "stdout",
     "output_type": "stream",
     "text": [
      "[[ 2.]\n",
      " [ 0.]\n",
      " [-3.]]\n"
     ]
    }
   ],
   "source": [
    "i = meshAnalysis(12, 12, 3, 3, 10, 2, 2)\n",
    "\n",
    "print(i)"
   ]
  },
  {
   "cell_type": "markdown",
   "metadata": {},
   "source": [
    "Or we could calculate, for example, how $I_2$ will vary as a function of $R_4$, with all other values fixed :"
   ]
  },
  {
   "cell_type": "code",
   "execution_count": 10,
   "metadata": {},
   "outputs": [
    {
     "data": {
      "image/png": "[encoded data removed]",
      "text/plain": [
       "<Figure size 432x288 with 1 Axes>"
      ]
     },
     "metadata": {
      "needs_background": "light"
     },
     "output_type": "display_data"
    }
   ],
   "source": [
    "r4s = np.linspace(0.1, 5.0, 100)\n",
    "i2s = np.empty(len(r4s))\n",
    "\n",
    "for j,r4 in enumerate(r4s):\n",
    "    i     = meshAnalysis(12, 12, 3, 3, 10, r4, 2)\n",
    "    i2s[j] = i[1]\n",
    "\n",
    "import matplotlib.pyplot as plt\n",
    "\n",
    "plt.plot(r4s, i2s)\n",
    "plt.ylabel('$I_2$ (A)')\n",
    "plt.xlabel('$R_4$ ($\\Omega$)')\n",
    "plt.show()"
   ]
  },
  {
   "cell_type": "code",
   "execution_count": null,
   "metadata": {},
   "outputs": [],
   "source": []
  }
 ],
 "metadata": {
  "kernelspec": {
   "display_name": "Python 3",
   "language": "python",
   "name": "python3"
  },
  "language_info": {
   "codemirror_mode": {
    "name": "ipython",
    "version": 3
   },
   "file_extension": ".py",
   "mimetype": "text/x-python",
   "name": "python",
   "nbconvert_exporter": "python",
   "pygments_lexer": "ipython3",
   "version": "3.10.0 (tags/v3.10.0:b494f59, Oct  4 2021, 19:00:18) [MSC v.1929 64 bit (AMD64)]"
  },
  "vscode": {
   "interpreter": {
    "hash": "b8445da9815d99c96faf0551ebc6049fb38d2146f9c1a278adf7acc8edaba5b8"
   }
  }
 },
 "nbformat": 4,
 "nbformat_minor": 2
}
