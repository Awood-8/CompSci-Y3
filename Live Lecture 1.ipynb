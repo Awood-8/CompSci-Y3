{
 "cells": [
  {
   "cell_type": "markdown",
   "metadata": {},
   "source": [
    "# Live Lecture 1\n",
    "\n",
    "In the Linear Algebra 1 notebook, we looked at several methods for solving a system of equations :\n",
    "* Matrix inversion\n",
    "* LU decomposition\n",
    "* SVD decomposition\n",
    "\n",
    "Here we will examine differences in terms of computational efficiency of these algorithms."
   ]
  },
  {
   "cell_type": "markdown",
   "metadata": {},
   "source": [
    "## Matrix Inversion using Cramer's Rule\n",
    "\n",
    "In the Linear Algebra 1 notebook we used matrix inversion from `scipy.linalg.inv`.  This uses LU decomposition to find the inverse matrix. An alternative approach is to use Cramer's rule, which you should be familiar with.\n",
    "\n",
    "$$A^{-1} = \\frac{1}{\\det{A}}C^T$$\n",
    "\n",
    "where C is the matrix of cofactors of A (or equivalently $C^T$ is the adjugate of A). The determinant can be found using the Laplace expansion :\n",
    "\n",
    "\\begin{equation}\n",
    "\\det{A} = \\Sigma^n_{j=1} (-1)^{i_0+j} a_{i_0j} \\det{M_{i_0j}}\n",
    "\\end{equation}\n",
    "\n",
    "Where $i_0$ indicates a particular row of the matrix, and $M_{ij}$ is the sub-matrix obtained by removing row i and column j of the original matrix A.\n",
    "\n",
    "I have provided functions which implement matrix inversion using Cramer's rule in the notebook `matrix_inverse_cramer.ipynb` which you can download from Blackboard along with this one.  To load it, run the cell below (which assumes that notebook is in the same folder as this one).\n",
    "\n",
    "To use the code in the notebook, we just need to call the function it defines, `inv_cramer(m)`, which will return the inverse of square matrix `m` using Cramer's rule."
   ]
  },
  {
   "cell_type": "code",
   "execution_count": 1,
   "metadata": {},
   "outputs": [],
   "source": [
    "import numpy as np\n",
    "import scipy.linalg as linalg\n",
    "\n",
    "# load the Cramer's rule notebook\n",
    "%run ./matrix_inverse_cramer.ipynb"
   ]
  },
  {
   "cell_type": "markdown",
   "metadata": {},
   "source": [
    "## Computational Efficiency\n",
    "\n",
    "Our goal here is to compare the *cpu time* required by each method to solve a linear equations. To do this, we will generate random NxN matrix problems :\n",
    "\n",
    "$${\\bf A} \\underline{x} = \\underline{b}$$\n",
    "\n",
    "We will pass each problem to each solver, record the cpu times taken, and the find the average over a large number of problems.\n",
    "\n",
    "So first we need a method of generating random problems, ie. random ${\\bf A}$ and $\\underline{b}$ :"
   ]
  },
  {
   "cell_type": "code",
   "execution_count": 3,
   "metadata": {},
   "outputs": [
    {
     "name": "stdout",
     "output_type": "stream",
     "text": [
      "[[0.00207987 0.39279224 0.89444454 0.2903263 ]\n",
      " [0.71989486 0.76236168 0.53843968 0.56811999]\n",
      " [0.53487396 0.83745577 0.04610568 0.20411358]\n",
      " [0.47034631 0.48931102 0.76185733 0.57512848]] [0.5021311  0.42791562 0.75265231 0.23470867]\n"
     ]
    }
   ],
   "source": [
    "# use the numpy random number library\n",
    "import numpy.random as random\n",
    "\n",
    "# to get the system epsilon, so we can ignore singular matrices\n",
    "import sys\n",
    "\n",
    "# generate a random, non-singular matrix and RHS\n",
    "def generate_problem(n):\n",
    "    \n",
    "    # generate random matrix and random vector\n",
    "    m = np.random.rand(n,n)\n",
    "    b = np.random.rand(n)\n",
    "\n",
    "    # check if the matrix is singular and try again if so\n",
    "    while np.linalg.cond(m) > 1/sys.float_info.epsilon:\n",
    "        m = np.random.rand(n,n)\n",
    "        \n",
    "    return m, b\n",
    "\n",
    "# a quick test\n",
    "a, b = generate_problem(4)\n",
    "print(a, b)"
   ]
  },
  {
   "cell_type": "markdown",
   "metadata": {},
   "source": [
    "The three different methods we're going to compare all have a slightly different user interface.  LU decomposition has exactly what we want here, since it provides the `lu_solve()` function.  But the Cramer's rule code returns the inverse of a matrix, and SVD just returns the SVD decomposition of a matrix.  So to do a fair comparison, we need functions which all do the same thing - ie. take matrix `a` and vector `b` as arguments, and return the solution vector `x`."
   ]
  },
  {
   "cell_type": "code",
   "execution_count": 13,
   "metadata": {},
   "outputs": [],
   "source": [
    "# the same set of functions used in Linear Algebra 1 notebook for comparison of numerical results\n",
    "# except here I have replaced scipy.linalg.inv() with inv_cramer()\n",
    "# since scipy.linalg.inv() uses LU decomposition, and therefore has very similar time to scipy.linalg.lu_solve\n",
    "\n",
    "def solve_inv(a,b):\n",
    "    try:\n",
    "        x = inv_cramer(a) @ b\n",
    "    except linalg.LinAlgError as err:\n",
    "        x = np.full_like(b,np.NaN)\n",
    "    return x\n",
    "    \n",
    "def solve_lu(a,b):\n",
    "    lu, piv = linalg.lu_factor(a)\n",
    "    x = linalg.lu_solve((lu, piv), b, check_finite=False)\n",
    "    return x\n",
    "\n",
    "def solve_svd(a,b):\n",
    "    u, s, vh = linalg.svd(a)\n",
    "    c = np.dot(u.T,b)\n",
    "    w = np.dot(np.diag(1/s),c)\n",
    "    x = np.dot(vh.conj().T,w)\n",
    "    return x"
   ]
  },
  {
   "cell_type": "markdown",
   "metadata": {},
   "source": [
    "Finally, we write a function which generates a large number of problems, and estimates the cpu time required to solve them.  For the cpu time, we use the `timeit.Timer` library, as discussed in the Advanced Python Tutorial §6.\n",
    "\n",
    "This function will need to :\n",
    "* for each problem, calculate the time for $N_{call}$ calls to the function.  (Why?)\n",
    "* repeat this $N_{repeat}$ times, and take the *minimum* time from this number of repeats.  (Why?)\n",
    "* do this for $N_{prob}$ random problems, and calculate the average and std deviation over this set."
   ]
  },
  {
   "cell_type": "code",
   "execution_count": 14,
   "metadata": {},
   "outputs": [],
   "source": [
    "from timeit import Timer\n",
    "\n",
    "# find the mean time to solve a random NxN matrix problem\n",
    "# take the average over the supplied problems\n",
    "# times n_call function calls, and takes the minimum time over n_rpt repeats\n",
    "def time_solver(n, n_prob, n_call, n_rpt, fn):\n",
    "    ts = []\n",
    "    \n",
    "    # repeat n_prob times\n",
    "    for i in range(n_prob):\n",
    "        \n",
    "        # generate a problem\n",
    "        m, b = generate_problem(n)\n",
    "        \n",
    "        # take the time for n_call calls, and repeat n_rpt times\n",
    "        tt = Timer(lambda : fn(m,b)).repeat(number=n_call, repeat=n_rpt)\n",
    "        \n",
    "        # take the minimum from the set of repeats\n",
    "        t = np.min(tt)\n",
    "\n",
    "        # calculate the time for 1 function call\n",
    "        t /= n_call\n",
    "        \n",
    "        ts.append(t)\n",
    "    \n",
    "    return np.average(ts), np.std(ts)"
   ]
  },
  {
   "cell_type": "markdown",
   "metadata": {},
   "source": [
    "Next we run it over a reasonable range of N..."
   ]
  },
  {
   "cell_type": "code",
   "execution_count": 16,
   "metadata": {},
   "outputs": [
    {
     "name": "stdout",
     "output_type": "stream",
     "text": [
      "Done n = 2\n",
      "Done n = 3\n",
      "Done n = 4\n",
      "Done n = 5\n",
      "Done n = 6\n",
      "Done n = 7\n",
      "Done n = 8\n",
      "Done n = 9\n",
      "Done n = 10\n",
      "Done n = 11\n",
      "Done n = 12\n",
      "Done n = 13\n",
      "Done n = 14\n",
      "Done n = 15\n",
      "Finished in 181.80 seconds\n"
     ]
    }
   ],
   "source": [
    "# range of N\n",
    "ns = np.arange(2,16)\n",
    "\n",
    "# arrays for mean/error time values\n",
    "t1s = []\n",
    "e1s = []\n",
    "t2s = []\n",
    "e2s = []\n",
    "t3s = []\n",
    "e3s = []\n",
    "\n",
    "import time\n",
    "t0= time.time()\n",
    "\n",
    "for n in ns:\n",
    "    \n",
    "    if n<6:  # Cramer's rule is VERY slow, don't try it for high N\n",
    "        t1, e1 = time_solver(n, 10, 1000, 3, solve_inv)\n",
    "        t1s.append(t1)\n",
    "        e1s.append(e1)\n",
    "    \n",
    "    t2, e2 = time_solver(n, 10, 10000, 3, solve_lu)\n",
    "    t2s.append(t2)\n",
    "    e2s.append(e2)\n",
    "    \n",
    "    t3, e3 = time_solver(n, 10, 10000, 3, solve_svd)\n",
    "    t3s.append(t3)\n",
    "    e3s.append(e3)    \n",
    "    \n",
    "    print(\"Done n =\",n)\n",
    "\n",
    "print(\"Finished in {:.2f} seconds\".format(time.time()-t0))"
   ]
  },
  {
   "cell_type": "markdown",
   "metadata": {},
   "source": [
    "Now make a plot of the results..."
   ]
  },
  {
   "cell_type": "code",
   "execution_count": 17,
   "metadata": {},
   "outputs": [
    {
     "data": {
      "image/png": "[encoded data removed]",
      "text/plain": [
       "<Figure size 432x288 with 1 Axes>"
      ]
     },
     "metadata": {
      "needs_background": "light"
     },
     "output_type": "display_data"
    }
   ],
   "source": [
    "import matplotlib.pyplot as plt\n",
    "\n",
    "# plot LUD as points with error bars\n",
    "plt.errorbar(ns, t2s, yerr=e2s, color='g', label=\"LUD\")\n",
    "plt.errorbar(ns, t3s, yerr=e3s, color='b', label=\"SVD\")\n",
    "plt.errorbar(ns[:4], t1s, yerr=e1s, color='r', label=\"Cramer\")\n",
    "\n",
    "#plt.xlim(2, 5)\n",
    "plt.yscale(\"log\")\n",
    "plt.xlabel(\"N\")\n",
    "plt.ylabel(\"time (s)\")\n",
    "plt.legend()\n",
    "plt.show()"
   ]
  },
  {
   "cell_type": "markdown",
   "metadata": {},
   "source": [
    "Now we consider the computational complexity of these algorithms... (see accompanying slides)"
   ]
  },
  {
   "cell_type": "code",
   "execution_count": 18,
   "metadata": {},
   "outputs": [
    {
     "name": "stdout",
     "output_type": "stream",
     "text": [
      "Cramers rule fit : a=3e-06\n",
      "LU fit           : a=7e-10 c=4e-06\n",
      "SVD fit          : a=1e-08 c=1e-05\n"
     ]
    }
   ],
   "source": [
    "import scipy.optimize as optimize\n",
    "import scipy.special\n",
    "\n",
    "# define a factorial function for fitting\n",
    "def fit_cramer(x, a):\n",
    "    return a * scipy.special.factorial(x)\n",
    "\n",
    "# define a cubic function for LU and SVD methods\n",
    "def fit_cubic(x, a, c):\n",
    "    return a * x**3 + c\n",
    "\n",
    "# fit it to the cpu-time measurements for Cramer's rule\n",
    "popt1, pcov1 = optimize.curve_fit(fit_cramer, ns[:4], t1s[:4], sigma=e1s[:4])\n",
    "print(\"Cramers rule fit : a={0:.0e}\".format(popt1[0]))\n",
    "\n",
    "# fit it to the LU data\n",
    "popt2, pcov2 = optimize.curve_fit(fit_cubic, ns, t2s, sigma=e2s)\n",
    "print(\"LU fit           : a={0:.0e} c={1:.0e}\".format(popt2[0], popt2[1]))\n",
    "\n",
    "# and fit to the SVD data\n",
    "popt3, pcov3 = optimize.curve_fit(fit_cubic, ns, t3s, sigma=e3s)\n",
    "print(\"SVD fit          : a={0:.0e} c={1:.0e}\".format(popt3[0], popt3[1]))\n"
   ]
  },
  {
   "cell_type": "code",
   "execution_count": 19,
   "metadata": {},
   "outputs": [
    {
     "data": {
      "image/png": "[encoded data removed]",
      "text/plain": [
       "<Figure size 864x432 with 2 Axes>"
      ]
     },
     "metadata": {
      "needs_background": "light"
     },
     "output_type": "display_data"
    }
   ],
   "source": [
    "import matplotlib.pyplot as plt\n",
    "\n",
    "# we'll make two plots, one of LU vs SVD, and one of all 3 on different axes\n",
    "fig=plt.figure(figsize=(12, 6))\n",
    "\n",
    "# plot 1\n",
    "plt.subplot(1, 2, 1)\n",
    "\n",
    "# plot LUD as points with error bars\n",
    "plt.errorbar(ns, t2s, yerr=e2s, color='g', label=\"LUD\")\n",
    "\n",
    "# and then the fit results\n",
    "plt.plot(ns, fit_cubic(ns, *popt2), color='g', linestyle='dotted')\n",
    "\n",
    "# same again for SVD\n",
    "plt.errorbar(ns, t3s, yerr=e3s, color='b', label=\"SVD\")\n",
    "plt.plot(ns, fit_cubic(ns, *popt3), color='b', linestyle='dotted')\n",
    "\n",
    "# some labels and set the scale correctly\n",
    "plt.xlim(2,14)\n",
    "plt.yscale(\"log\")\n",
    "plt.xlabel(\"N\")\n",
    "plt.ylabel(\"time (s)\")\n",
    "plt.legend()\n",
    "\n",
    "# plot 2\n",
    "plt.subplot(1, 2, 2)\n",
    "\n",
    "# matrix inversion with cramer's rule, with fit results\n",
    "plt.errorbar(ns[:4], t1s, yerr=e1s, color='r', label=\"Cramer\")\n",
    "plt.plot(ns[:4], fit_cramer(ns[:4], *popt1), color='r', linestyle='dotted')\n",
    "\n",
    "# same for LU\n",
    "plt.errorbar(ns, t2s, yerr=e2s, color='g', label=\"LUD\")\n",
    "plt.plot(ns, fit_cubic(ns, *popt2), color='g', linestyle='dotted')\n",
    "\n",
    "# and for SVD\n",
    "plt.errorbar(ns, t3s, yerr=e3s, color='b', label=\"SVD\")\n",
    "plt.plot(ns, fit_cubic(ns, *popt3), color='b', linestyle='dotted')\n",
    "\n",
    "# plot labels etc.\n",
    "plt.xlim(2, 5)\n",
    "plt.yscale(\"log\")\n",
    "plt.xlabel(\"N\")\n",
    "plt.ylabel(\"time (s)\")\n",
    "plt.legend()\n",
    "\n",
    "# vnow plot another version which extends the range of N and includes only LU and SVD results\n",
    "\n",
    "plt.tight_layout()\n",
    "\n",
    "plt.show()"
   ]
  },
  {
   "cell_type": "code",
   "execution_count": null,
   "metadata": {},
   "outputs": [],
   "source": []
  }
 ],
 "metadata": {
  "celltoolbar": "Create Assignment",
  "kernelspec": {
   "display_name": "Python 3 (ipykernel)",
   "language": "python",
   "name": "python3"
  },
  "language_info": {
   "codemirror_mode": {
    "name": "ipython",
    "version": 3
   },
   "file_extension": ".py",
   "mimetype": "text/x-python",
   "name": "python",
   "nbconvert_exporter": "python",
   "pygments_lexer": "ipython3",
   "version": "3.9.7"
  }
 },
 "nbformat": 4,
 "nbformat_minor": 2
}
